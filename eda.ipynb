{
 "cells": [
  {
   "cell_type": "markdown",
   "metadata": {},
   "source": [
    "# Final Project Exploratory Data Analysis\n",
    "\n",
    "Do your EDA in this notebook!"
   ]
  },
  {
   "cell_type": "code",
   "execution_count": 1,
   "metadata": {},
   "outputs": [],
   "source": [
    "import pandas as pd\n",
    "import os"
   ]
  },
  {
   "cell_type": "code",
   "execution_count": 2,
   "metadata": {},
   "outputs": [
    {
     "data": {
      "text/plain": [
       "'/mnt/c/Users/Public/Documents/dev/course-materials/final-project-template'"
      ]
     },
     "execution_count": 2,
     "metadata": {},
     "output_type": "execute_result"
    }
   ],
   "source": [
    "pwd"
   ]
  },
  {
   "cell_type": "code",
   "execution_count": 3,
   "metadata": {},
   "outputs": [],
   "source": [
    "major_data = pd.read_csv('/mnt/c/Users/Public/Documents/dev/course-materials/final-project-template/data/all-ages.csv')"
   ]
  },
  {
   "cell_type": "code",
   "execution_count": 4,
   "metadata": {},
   "outputs": [
    {
     "data": {
      "text/html": [
       "<div>\n",
       "<style scoped>\n",
       "    .dataframe tbody tr th:only-of-type {\n",
       "        vertical-align: middle;\n",
       "    }\n",
       "\n",
       "    .dataframe tbody tr th {\n",
       "        vertical-align: top;\n",
       "    }\n",
       "\n",
       "    .dataframe thead th {\n",
       "        text-align: right;\n",
       "    }\n",
       "</style>\n",
       "<table border=\"1\" class=\"dataframe\">\n",
       "  <thead>\n",
       "    <tr style=\"text-align: right;\">\n",
       "      <th></th>\n",
       "      <th>Major_code</th>\n",
       "      <th>Major</th>\n",
       "      <th>Major_category</th>\n",
       "      <th>Total</th>\n",
       "      <th>Employed</th>\n",
       "      <th>Employed_full_time_year_round</th>\n",
       "      <th>Unemployed</th>\n",
       "      <th>Unemployment_rate</th>\n",
       "      <th>Median</th>\n",
       "      <th>P25th</th>\n",
       "      <th>P75th</th>\n",
       "    </tr>\n",
       "  </thead>\n",
       "  <tbody>\n",
       "    <tr>\n",
       "      <td>0</td>\n",
       "      <td>1100</td>\n",
       "      <td>GENERAL AGRICULTURE</td>\n",
       "      <td>Agriculture &amp; Natural Resources</td>\n",
       "      <td>128148</td>\n",
       "      <td>90245</td>\n",
       "      <td>74078</td>\n",
       "      <td>2423</td>\n",
       "      <td>0.026147</td>\n",
       "      <td>50000</td>\n",
       "      <td>34000</td>\n",
       "      <td>80000.0</td>\n",
       "    </tr>\n",
       "    <tr>\n",
       "      <td>1</td>\n",
       "      <td>1101</td>\n",
       "      <td>AGRICULTURE PRODUCTION AND MANAGEMENT</td>\n",
       "      <td>Agriculture &amp; Natural Resources</td>\n",
       "      <td>95326</td>\n",
       "      <td>76865</td>\n",
       "      <td>64240</td>\n",
       "      <td>2266</td>\n",
       "      <td>0.028636</td>\n",
       "      <td>54000</td>\n",
       "      <td>36000</td>\n",
       "      <td>80000.0</td>\n",
       "    </tr>\n",
       "    <tr>\n",
       "      <td>2</td>\n",
       "      <td>1102</td>\n",
       "      <td>AGRICULTURAL ECONOMICS</td>\n",
       "      <td>Agriculture &amp; Natural Resources</td>\n",
       "      <td>33955</td>\n",
       "      <td>26321</td>\n",
       "      <td>22810</td>\n",
       "      <td>821</td>\n",
       "      <td>0.030248</td>\n",
       "      <td>63000</td>\n",
       "      <td>40000</td>\n",
       "      <td>98000.0</td>\n",
       "    </tr>\n",
       "    <tr>\n",
       "      <td>3</td>\n",
       "      <td>1103</td>\n",
       "      <td>ANIMAL SCIENCES</td>\n",
       "      <td>Agriculture &amp; Natural Resources</td>\n",
       "      <td>103549</td>\n",
       "      <td>81177</td>\n",
       "      <td>64937</td>\n",
       "      <td>3619</td>\n",
       "      <td>0.042679</td>\n",
       "      <td>46000</td>\n",
       "      <td>30000</td>\n",
       "      <td>72000.0</td>\n",
       "    </tr>\n",
       "    <tr>\n",
       "      <td>4</td>\n",
       "      <td>1104</td>\n",
       "      <td>FOOD SCIENCE</td>\n",
       "      <td>Agriculture &amp; Natural Resources</td>\n",
       "      <td>24280</td>\n",
       "      <td>17281</td>\n",
       "      <td>12722</td>\n",
       "      <td>894</td>\n",
       "      <td>0.049188</td>\n",
       "      <td>62000</td>\n",
       "      <td>38500</td>\n",
       "      <td>90000.0</td>\n",
       "    </tr>\n",
       "  </tbody>\n",
       "</table>\n",
       "</div>"
      ],
      "text/plain": [
       "   Major_code                                  Major  \\\n",
       "0        1100                    GENERAL AGRICULTURE   \n",
       "1        1101  AGRICULTURE PRODUCTION AND MANAGEMENT   \n",
       "2        1102                 AGRICULTURAL ECONOMICS   \n",
       "3        1103                        ANIMAL SCIENCES   \n",
       "4        1104                           FOOD SCIENCE   \n",
       "\n",
       "                    Major_category   Total  Employed  \\\n",
       "0  Agriculture & Natural Resources  128148     90245   \n",
       "1  Agriculture & Natural Resources   95326     76865   \n",
       "2  Agriculture & Natural Resources   33955     26321   \n",
       "3  Agriculture & Natural Resources  103549     81177   \n",
       "4  Agriculture & Natural Resources   24280     17281   \n",
       "\n",
       "   Employed_full_time_year_round  Unemployed  Unemployment_rate  Median  \\\n",
       "0                          74078        2423           0.026147   50000   \n",
       "1                          64240        2266           0.028636   54000   \n",
       "2                          22810         821           0.030248   63000   \n",
       "3                          64937        3619           0.042679   46000   \n",
       "4                          12722         894           0.049188   62000   \n",
       "\n",
       "   P25th    P75th  \n",
       "0  34000  80000.0  \n",
       "1  36000  80000.0  \n",
       "2  40000  98000.0  \n",
       "3  30000  72000.0  \n",
       "4  38500  90000.0  "
      ]
     },
     "execution_count": 4,
     "metadata": {},
     "output_type": "execute_result"
    }
   ],
   "source": [
    "major_data.head()"
   ]
  },
  {
   "cell_type": "code",
   "execution_count": 5,
   "metadata": {
    "scrolled": true
   },
   "outputs": [
    {
     "data": {
      "text/html": [
       "<div>\n",
       "<style scoped>\n",
       "    .dataframe tbody tr th:only-of-type {\n",
       "        vertical-align: middle;\n",
       "    }\n",
       "\n",
       "    .dataframe tbody tr th {\n",
       "        vertical-align: top;\n",
       "    }\n",
       "\n",
       "    .dataframe thead th {\n",
       "        text-align: right;\n",
       "    }\n",
       "</style>\n",
       "<table border=\"1\" class=\"dataframe\">\n",
       "  <thead>\n",
       "    <tr style=\"text-align: right;\">\n",
       "      <th></th>\n",
       "      <th>Major_code</th>\n",
       "      <th>Major</th>\n",
       "      <th>Major_category</th>\n",
       "      <th>Total</th>\n",
       "      <th>Employed</th>\n",
       "      <th>Employed_full_time_year_round</th>\n",
       "      <th>Unemployed</th>\n",
       "      <th>Unemployment_rate</th>\n",
       "      <th>Median</th>\n",
       "      <th>P25th</th>\n",
       "      <th>P75th</th>\n",
       "    </tr>\n",
       "  </thead>\n",
       "  <tbody>\n",
       "    <tr>\n",
       "      <td>168</td>\n",
       "      <td>6211</td>\n",
       "      <td>HOSPITALITY MANAGEMENT</td>\n",
       "      <td>Business</td>\n",
       "      <td>200854</td>\n",
       "      <td>163393</td>\n",
       "      <td>122499</td>\n",
       "      <td>8862</td>\n",
       "      <td>0.051447</td>\n",
       "      <td>49000</td>\n",
       "      <td>33000</td>\n",
       "      <td>70000.0</td>\n",
       "    </tr>\n",
       "    <tr>\n",
       "      <td>169</td>\n",
       "      <td>6212</td>\n",
       "      <td>MANAGEMENT INFORMATION SYSTEMS AND STATISTICS</td>\n",
       "      <td>Business</td>\n",
       "      <td>156673</td>\n",
       "      <td>134478</td>\n",
       "      <td>118249</td>\n",
       "      <td>6186</td>\n",
       "      <td>0.043977</td>\n",
       "      <td>72000</td>\n",
       "      <td>50000</td>\n",
       "      <td>100000.0</td>\n",
       "    </tr>\n",
       "    <tr>\n",
       "      <td>170</td>\n",
       "      <td>6299</td>\n",
       "      <td>MISCELLANEOUS BUSINESS &amp; MEDICAL ADMINISTRATION</td>\n",
       "      <td>Business</td>\n",
       "      <td>102753</td>\n",
       "      <td>77471</td>\n",
       "      <td>61603</td>\n",
       "      <td>4308</td>\n",
       "      <td>0.052679</td>\n",
       "      <td>53000</td>\n",
       "      <td>36000</td>\n",
       "      <td>83000.0</td>\n",
       "    </tr>\n",
       "    <tr>\n",
       "      <td>171</td>\n",
       "      <td>6402</td>\n",
       "      <td>HISTORY</td>\n",
       "      <td>Humanities &amp; Liberal Arts</td>\n",
       "      <td>712509</td>\n",
       "      <td>478416</td>\n",
       "      <td>354163</td>\n",
       "      <td>33725</td>\n",
       "      <td>0.065851</td>\n",
       "      <td>50000</td>\n",
       "      <td>35000</td>\n",
       "      <td>80000.0</td>\n",
       "    </tr>\n",
       "    <tr>\n",
       "      <td>172</td>\n",
       "      <td>6403</td>\n",
       "      <td>UNITED STATES HISTORY</td>\n",
       "      <td>Humanities &amp; Liberal Arts</td>\n",
       "      <td>17746</td>\n",
       "      <td>11887</td>\n",
       "      <td>8204</td>\n",
       "      <td>943</td>\n",
       "      <td>0.073500</td>\n",
       "      <td>50000</td>\n",
       "      <td>39000</td>\n",
       "      <td>81000.0</td>\n",
       "    </tr>\n",
       "  </tbody>\n",
       "</table>\n",
       "</div>"
      ],
      "text/plain": [
       "     Major_code                                            Major  \\\n",
       "168        6211                           HOSPITALITY MANAGEMENT   \n",
       "169        6212    MANAGEMENT INFORMATION SYSTEMS AND STATISTICS   \n",
       "170        6299  MISCELLANEOUS BUSINESS & MEDICAL ADMINISTRATION   \n",
       "171        6402                                          HISTORY   \n",
       "172        6403                            UNITED STATES HISTORY   \n",
       "\n",
       "                Major_category   Total  Employed  \\\n",
       "168                   Business  200854    163393   \n",
       "169                   Business  156673    134478   \n",
       "170                   Business  102753     77471   \n",
       "171  Humanities & Liberal Arts  712509    478416   \n",
       "172  Humanities & Liberal Arts   17746     11887   \n",
       "\n",
       "     Employed_full_time_year_round  Unemployed  Unemployment_rate  Median  \\\n",
       "168                         122499        8862           0.051447   49000   \n",
       "169                         118249        6186           0.043977   72000   \n",
       "170                          61603        4308           0.052679   53000   \n",
       "171                         354163       33725           0.065851   50000   \n",
       "172                           8204         943           0.073500   50000   \n",
       "\n",
       "     P25th     P75th  \n",
       "168  33000   70000.0  \n",
       "169  50000  100000.0  \n",
       "170  36000   83000.0  \n",
       "171  35000   80000.0  \n",
       "172  39000   81000.0  "
      ]
     },
     "execution_count": 5,
     "metadata": {},
     "output_type": "execute_result"
    }
   ],
   "source": [
    "major_data.tail()"
   ]
  },
  {
   "cell_type": "code",
   "execution_count": 13,
   "metadata": {
    "scrolled": true
   },
   "outputs": [
    {
     "data": {
      "text/html": [
       "<div>\n",
       "<style scoped>\n",
       "    .dataframe tbody tr th:only-of-type {\n",
       "        vertical-align: middle;\n",
       "    }\n",
       "\n",
       "    .dataframe tbody tr th {\n",
       "        vertical-align: top;\n",
       "    }\n",
       "\n",
       "    .dataframe thead th {\n",
       "        text-align: right;\n",
       "    }\n",
       "</style>\n",
       "<table border=\"1\" class=\"dataframe\">\n",
       "  <thead>\n",
       "    <tr style=\"text-align: right;\">\n",
       "      <th></th>\n",
       "      <th>Unemployment_rate</th>\n",
       "    </tr>\n",
       "  </thead>\n",
       "  <tbody>\n",
       "    <tr>\n",
       "      <td>count</td>\n",
       "      <td>173.000000</td>\n",
       "    </tr>\n",
       "    <tr>\n",
       "      <td>mean</td>\n",
       "      <td>0.057355</td>\n",
       "    </tr>\n",
       "    <tr>\n",
       "      <td>std</td>\n",
       "      <td>0.019177</td>\n",
       "    </tr>\n",
       "    <tr>\n",
       "      <td>min</td>\n",
       "      <td>0.000000</td>\n",
       "    </tr>\n",
       "    <tr>\n",
       "      <td>25%</td>\n",
       "      <td>0.046261</td>\n",
       "    </tr>\n",
       "    <tr>\n",
       "      <td>50%</td>\n",
       "      <td>0.054719</td>\n",
       "    </tr>\n",
       "    <tr>\n",
       "      <td>75%</td>\n",
       "      <td>0.069043</td>\n",
       "    </tr>\n",
       "    <tr>\n",
       "      <td>max</td>\n",
       "      <td>0.156147</td>\n",
       "    </tr>\n",
       "  </tbody>\n",
       "</table>\n",
       "</div>"
      ],
      "text/plain": [
       "       Unemployment_rate\n",
       "count         173.000000\n",
       "mean            0.057355\n",
       "std             0.019177\n",
       "min             0.000000\n",
       "25%             0.046261\n",
       "50%             0.054719\n",
       "75%             0.069043\n",
       "max             0.156147"
      ]
     },
     "execution_count": 13,
     "metadata": {},
     "output_type": "execute_result"
    }
   ],
   "source": [
    "major_data[['Unemployment_rate']].describe()"
   ]
  },
  {
   "cell_type": "code",
   "execution_count": 8,
   "metadata": {},
   "outputs": [
    {
     "data": {
      "text/plain": [
       "(173, 11)"
      ]
     },
     "execution_count": 8,
     "metadata": {},
     "output_type": "execute_result"
    }
   ],
   "source": [
    "major_data.shape"
   ]
  },
  {
   "cell_type": "code",
   "execution_count": 12,
   "metadata": {},
   "outputs": [
    {
     "data": {
      "text/plain": [
       "Major_code                       0\n",
       "Major                            0\n",
       "Major_category                   0\n",
       "Total                            0\n",
       "Employed                         0\n",
       "Employed_full_time_year_round    0\n",
       "Unemployed                       0\n",
       "Unemployment_rate                0\n",
       "Median                           0\n",
       "P25th                            0\n",
       "P75th                            0\n",
       "dtype: int64"
      ]
     },
     "execution_count": 12,
     "metadata": {},
     "output_type": "execute_result"
    }
   ],
   "source": [
    "major_data.isnull().sum()"
   ]
  },
  {
   "cell_type": "code",
   "execution_count": 15,
   "metadata": {},
   "outputs": [
    {
     "data": {
      "text/plain": [
       "Engineering                            29\n",
       "Education                              16\n",
       "Humanities & Liberal Arts              15\n",
       "Biology & Life Science                 14\n",
       "Business                               13\n",
       "Health                                 12\n",
       "Computers & Mathematics                11\n",
       "Physical Sciences                      10\n",
       "Agriculture & Natural Resources        10\n",
       "Social Science                          9\n",
       "Psychology & Social Work                9\n",
       "Arts                                    8\n",
       "Industrial Arts & Consumer Services     7\n",
       "Law & Public Policy                     5\n",
       "Communications & Journalism             4\n",
       "Interdisciplinary                       1\n",
       "Name: Major_category, dtype: int64"
      ]
     },
     "execution_count": 15,
     "metadata": {},
     "output_type": "execute_result"
    }
   ],
   "source": [
    "major_data['Major_category'].value_counts()"
   ]
  },
  {
   "cell_type": "markdown",
   "metadata": {},
   "source": [
    "value_counts() shows how many different types of majors there are within a categroy"
   ]
  },
  {
   "cell_type": "code",
   "execution_count": 24,
   "metadata": {},
   "outputs": [
    {
     "data": {
      "text/html": [
       "<div>\n",
       "<style scoped>\n",
       "    .dataframe tbody tr th:only-of-type {\n",
       "        vertical-align: middle;\n",
       "    }\n",
       "\n",
       "    .dataframe tbody tr th {\n",
       "        vertical-align: top;\n",
       "    }\n",
       "\n",
       "    .dataframe thead th {\n",
       "        text-align: right;\n",
       "    }\n",
       "</style>\n",
       "<table border=\"1\" class=\"dataframe\">\n",
       "  <thead>\n",
       "    <tr style=\"text-align: right;\">\n",
       "      <th></th>\n",
       "      <th>Major_code</th>\n",
       "      <th>Major</th>\n",
       "      <th>Major_category</th>\n",
       "      <th>Total</th>\n",
       "      <th>Employed</th>\n",
       "      <th>Employed_full_time_year_round</th>\n",
       "      <th>Unemployed</th>\n",
       "      <th>Unemployment_rate</th>\n",
       "      <th>Median</th>\n",
       "      <th>P25th</th>\n",
       "      <th>P75th</th>\n",
       "    </tr>\n",
       "  </thead>\n",
       "  <tbody>\n",
       "    <tr>\n",
       "      <td>11</td>\n",
       "      <td>1401</td>\n",
       "      <td>ARCHITECTURE</td>\n",
       "      <td>Engineering</td>\n",
       "      <td>294692</td>\n",
       "      <td>216770</td>\n",
       "      <td>163020</td>\n",
       "      <td>20394</td>\n",
       "      <td>0.085991</td>\n",
       "      <td>63000</td>\n",
       "      <td>40400</td>\n",
       "      <td>93500.0</td>\n",
       "    </tr>\n",
       "    <tr>\n",
       "      <td>40</td>\n",
       "      <td>2400</td>\n",
       "      <td>GENERAL ENGINEERING</td>\n",
       "      <td>Engineering</td>\n",
       "      <td>503080</td>\n",
       "      <td>359172</td>\n",
       "      <td>312023</td>\n",
       "      <td>17986</td>\n",
       "      <td>0.047688</td>\n",
       "      <td>75000</td>\n",
       "      <td>50000</td>\n",
       "      <td>100000.0</td>\n",
       "    </tr>\n",
       "    <tr>\n",
       "      <td>41</td>\n",
       "      <td>2401</td>\n",
       "      <td>AEROSPACE ENGINEERING</td>\n",
       "      <td>Engineering</td>\n",
       "      <td>65734</td>\n",
       "      <td>44944</td>\n",
       "      <td>38491</td>\n",
       "      <td>1969</td>\n",
       "      <td>0.041971</td>\n",
       "      <td>80000</td>\n",
       "      <td>58000</td>\n",
       "      <td>110000.0</td>\n",
       "    </tr>\n",
       "    <tr>\n",
       "      <td>42</td>\n",
       "      <td>2402</td>\n",
       "      <td>BIOLOGICAL ENGINEERING</td>\n",
       "      <td>Engineering</td>\n",
       "      <td>32748</td>\n",
       "      <td>24270</td>\n",
       "      <td>18621</td>\n",
       "      <td>1521</td>\n",
       "      <td>0.058974</td>\n",
       "      <td>62000</td>\n",
       "      <td>40000</td>\n",
       "      <td>91000.0</td>\n",
       "    </tr>\n",
       "    <tr>\n",
       "      <td>43</td>\n",
       "      <td>2403</td>\n",
       "      <td>ARCHITECTURAL ENGINEERING</td>\n",
       "      <td>Engineering</td>\n",
       "      <td>19587</td>\n",
       "      <td>13713</td>\n",
       "      <td>11180</td>\n",
       "      <td>1017</td>\n",
       "      <td>0.069043</td>\n",
       "      <td>78000</td>\n",
       "      <td>50000</td>\n",
       "      <td>102000.0</td>\n",
       "    </tr>\n",
       "  </tbody>\n",
       "</table>\n",
       "</div>"
      ],
      "text/plain": [
       "    Major_code                      Major Major_category   Total  Employed  \\\n",
       "11        1401               ARCHITECTURE    Engineering  294692    216770   \n",
       "40        2400        GENERAL ENGINEERING    Engineering  503080    359172   \n",
       "41        2401      AEROSPACE ENGINEERING    Engineering   65734     44944   \n",
       "42        2402     BIOLOGICAL ENGINEERING    Engineering   32748     24270   \n",
       "43        2403  ARCHITECTURAL ENGINEERING    Engineering   19587     13713   \n",
       "\n",
       "    Employed_full_time_year_round  Unemployed  Unemployment_rate  Median  \\\n",
       "11                         163020       20394           0.085991   63000   \n",
       "40                         312023       17986           0.047688   75000   \n",
       "41                          38491        1969           0.041971   80000   \n",
       "42                          18621        1521           0.058974   62000   \n",
       "43                          11180        1017           0.069043   78000   \n",
       "\n",
       "    P25th     P75th  \n",
       "11  40400   93500.0  \n",
       "40  50000  100000.0  \n",
       "41  58000  110000.0  \n",
       "42  40000   91000.0  \n",
       "43  50000  102000.0  "
      ]
     },
     "execution_count": 24,
     "metadata": {},
     "output_type": "execute_result"
    }
   ],
   "source": [
    "major_data[major_data['Major_category'] == 'Engineering'].head()"
   ]
  },
  {
   "cell_type": "code",
   "execution_count": 26,
   "metadata": {},
   "outputs": [],
   "source": [
    "import matplotlib"
   ]
  },
  {
   "cell_type": "code",
   "execution_count": 28,
   "metadata": {},
   "outputs": [
    {
     "data": {
      "image/png": "[encoded data removed]",
      "text/plain": [
       "<Figure size 432x288 with 1 Axes>"
      ]
     },
     "metadata": {
      "needs_background": "light"
     },
     "output_type": "display_data"
    }
   ],
   "source": [
    "major_data[major_data['Major_category'] == 'Engineering']['Median'].hist();"
   ]
  },
  {
   "cell_type": "code",
   "execution_count": null,
   "metadata": {},
   "outputs": [],
   "source": []
  },
  {
   "cell_type": "code",
   "execution_count": null,
   "metadata": {},
   "outputs": [],
   "source": []
  },
  {
   "cell_type": "code",
   "execution_count": null,
   "metadata": {},
   "outputs": [],
   "source": []
  },
  {
   "cell_type": "code",
   "execution_count": null,
   "metadata": {},
   "outputs": [],
   "source": []
  },
  {
   "cell_type": "code",
   "execution_count": null,
   "metadata": {},
   "outputs": [],
   "source": []
  },
  {
   "cell_type": "code",
   "execution_count": null,
   "metadata": {},
   "outputs": [],
   "source": []
  },
  {
   "cell_type": "code",
   "execution_count": null,
   "metadata": {},
   "outputs": [],
   "source": []
  },
  {
   "cell_type": "code",
   "execution_count": null,
   "metadata": {},
   "outputs": [],
   "source": []
  },
  {
   "cell_type": "code",
   "execution_count": null,
   "metadata": {},
   "outputs": [],
   "source": []
  },
  {
   "cell_type": "code",
   "execution_count": null,
   "metadata": {},
   "outputs": [],
   "source": []
  },
  {
   "cell_type": "code",
   "execution_count": null,
   "metadata": {},
   "outputs": [],
   "source": []
  }
 ],
 "metadata": {
  "kernelspec": {
   "display_name": "Python 3",
   "language": "python",
   "name": "python3"
  },
  "language_info": {
   "codemirror_mode": {
    "name": "ipython",
    "version": 3
   },
   "file_extension": ".py",
   "mimetype": "text/x-python",
   "name": "python",
   "nbconvert_exporter": "python",
   "pygments_lexer": "ipython3",
   "version": "3.7.4"
  }
 },
 "nbformat": 4,
 "nbformat_minor": 2
}

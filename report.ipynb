{
 "cells": [
  {
   "cell_type": "markdown",
   "metadata": {},
   "source": [
    "# Final Report\n",
    "\n",
    "Transplant the necessary code from `eda.ipynb` to this notebook, and clean everything up for presentation!"
   ]
  },
  {
   "cell_type": "markdown",
   "metadata": {},
   "source": [
    "## Questions:\n",
    "1. How many majors fall into each category?  (done with value counts)\n",
    "***\n",
    "2. Which majors are most/least common? (done with dataframes)\n",
    "***\n",
    "3. Is the difference between median and P75th similar between all major categories or is it all relative to pay scale? (it is not all relative to pay scale b/c economics and actruial science were in that list.. It's not similar between all majors either because some have a much higher gap b/t the two types of pay)\n",
    "***\n",
    "4. What major categories provide the lowest unemployment rate? (almost done with graph)\n",
    "***\n",
    "5. Is the data actually accurate for analysis? (most is.. high amounts of health jobs in this study, less amount with computer and science majors)(a couple have unemployment rates of 0.00 so that isn't good data)\n",
    "***"
   ]
  },
  {
   "cell_type": "code",
   "execution_count": 1,
   "metadata": {},
   "outputs": [],
   "source": [
    "import pandas as pd\n",
    "import matplotlib.pyplot as plt\n",
    "import numpy as np"
   ]
  },
  {
   "cell_type": "code",
   "execution_count": 2,
   "metadata": {},
   "outputs": [],
   "source": [
    "major_data = pd.read_csv('/mnt/c/Users/Public/Documents/dev/course-materials/final-project-template/data/all-ages.csv')"
   ]
  },
  {
   "cell_type": "code",
   "execution_count": 3,
   "metadata": {},
   "outputs": [
    {
     "data": {
      "text/plain": [
       "(173, 11)"
      ]
     },
     "execution_count": 3,
     "metadata": {},
     "output_type": "execute_result"
    }
   ],
   "source": [
    "major_data.shape"
   ]
  },
  {
   "cell_type": "markdown",
   "metadata": {},
   "source": [
    "Using isnull().sum(), I found that there was no missing data within the dataset!"
   ]
  },
  {
   "cell_type": "code",
   "execution_count": 4,
   "metadata": {},
   "outputs": [
    {
     "data": {
      "text/plain": [
       "Major_code                       0\n",
       "Major                            0\n",
       "Major_category                   0\n",
       "Total                            0\n",
       "Employed                         0\n",
       "Employed_full_time_year_round    0\n",
       "Unemployed                       0\n",
       "Unemployment_rate                0\n",
       "Median                           0\n",
       "P25th                            0\n",
       "P75th                            0\n",
       "dtype: int64"
      ]
     },
     "execution_count": 4,
     "metadata": {},
     "output_type": "execute_result"
    }
   ],
   "source": [
    "major_data.isnull().sum()"
   ]
  },
  {
   "cell_type": "markdown",
   "metadata": {},
   "source": [
    "## **Onto my focus questions!**\n",
    "\n",
    "Majors in each category..\n",
    "* Found with value_counts()"
   ]
  },
  {
   "cell_type": "code",
   "execution_count": 5,
   "metadata": {
    "scrolled": true
   },
   "outputs": [
    {
     "data": {
      "text/plain": [
       "Engineering                            29\n",
       "Education                              16\n",
       "Humanities & Liberal Arts              15\n",
       "Biology & Life Science                 14\n",
       "Business                               13\n",
       "Health                                 12\n",
       "Computers & Mathematics                11\n",
       "Physical Sciences                      10\n",
       "Agriculture & Natural Resources        10\n",
       "Psychology & Social Work                9\n",
       "Social Science                          9\n",
       "Arts                                    8\n",
       "Industrial Arts & Consumer Services     7\n",
       "Law & Public Policy                     5\n",
       "Communications & Journalism             4\n",
       "Interdisciplinary                       1\n",
       "Name: Major_category, dtype: int64"
      ]
     },
     "execution_count": 5,
     "metadata": {},
     "output_type": "execute_result"
    }
   ],
   "source": [
    "major_data['Major_category'].value_counts()"
   ]
  },
  {
   "cell_type": "code",
   "execution_count": 6,
   "metadata": {},
   "outputs": [
    {
     "data": {
      "image/png": "[encoded data removed]",
      "text/plain": [
       "<Figure size 432x288 with 1 Axes>"
      ]
     },
     "metadata": {
      "needs_background": "light"
     },
     "output_type": "display_data"
    }
   ],
   "source": [
    "major_data['Major_category'].value_counts().plot(kind='barh')\n",
    "plt.yticks(fontsize=12),plt.title('Majors in Each Category'), plt.xlabel('Occurences');"
   ]
  },
  {
   "cell_type": "markdown",
   "metadata": {},
   "source": [
    "## **Next up..**\n",
    "\n",
    "Which majors are most/least common?"
   ]
  },
  {
   "cell_type": "code",
   "execution_count": 7,
   "metadata": {},
   "outputs": [
    {
     "data": {
      "text/html": [
       "<div>\n",
       "<style scoped>\n",
       "    .dataframe tbody tr th:only-of-type {\n",
       "        vertical-align: middle;\n",
       "    }\n",
       "\n",
       "    .dataframe tbody tr th {\n",
       "        vertical-align: top;\n",
       "    }\n",
       "\n",
       "    .dataframe thead th {\n",
       "        text-align: right;\n",
       "    }\n",
       "</style>\n",
       "<table border=\"1\" class=\"dataframe\">\n",
       "  <thead>\n",
       "    <tr style=\"text-align: right;\">\n",
       "      <th></th>\n",
       "      <th>Major</th>\n",
       "    </tr>\n",
       "  </thead>\n",
       "  <tbody>\n",
       "    <tr>\n",
       "      <td>13</td>\n",
       "      <td>COMMUNICATIONS</td>\n",
       "    </tr>\n",
       "    <tr>\n",
       "      <td>20</td>\n",
       "      <td>COMPUTER SCIENCE</td>\n",
       "    </tr>\n",
       "    <tr>\n",
       "      <td>25</td>\n",
       "      <td>GENERAL EDUCATION</td>\n",
       "    </tr>\n",
       "    <tr>\n",
       "      <td>28</td>\n",
       "      <td>ELEMENTARY EDUCATION</td>\n",
       "    </tr>\n",
       "    <tr>\n",
       "      <td>73</td>\n",
       "      <td>ENGLISH LANGUAGE AND LITERATURE</td>\n",
       "    </tr>\n",
       "    <tr>\n",
       "      <td>78</td>\n",
       "      <td>BIOLOGY</td>\n",
       "    </tr>\n",
       "    <tr>\n",
       "      <td>114</td>\n",
       "      <td>PSYCHOLOGY</td>\n",
       "    </tr>\n",
       "    <tr>\n",
       "      <td>121</td>\n",
       "      <td>CRIMINAL JUSTICE AND FIRE PROTECTION</td>\n",
       "    </tr>\n",
       "    <tr>\n",
       "      <td>127</td>\n",
       "      <td>ECONOMICS</td>\n",
       "    </tr>\n",
       "    <tr>\n",
       "      <td>153</td>\n",
       "      <td>NURSING</td>\n",
       "    </tr>\n",
       "    <tr>\n",
       "      <td>158</td>\n",
       "      <td>GENERAL BUSINESS</td>\n",
       "    </tr>\n",
       "    <tr>\n",
       "      <td>159</td>\n",
       "      <td>ACCOUNTING</td>\n",
       "    </tr>\n",
       "    <tr>\n",
       "      <td>161</td>\n",
       "      <td>BUSINESS MANAGEMENT AND ADMINISTRATION</td>\n",
       "    </tr>\n",
       "    <tr>\n",
       "      <td>164</td>\n",
       "      <td>MARKETING AND MARKETING RESEARCH</td>\n",
       "    </tr>\n",
       "    <tr>\n",
       "      <td>165</td>\n",
       "      <td>FINANCE</td>\n",
       "    </tr>\n",
       "  </tbody>\n",
       "</table>\n",
       "</div>"
      ],
      "text/plain": [
       "                                      Major\n",
       "13                           COMMUNICATIONS\n",
       "20                         COMPUTER SCIENCE\n",
       "25                        GENERAL EDUCATION\n",
       "28                     ELEMENTARY EDUCATION\n",
       "73          ENGLISH LANGUAGE AND LITERATURE\n",
       "78                                  BIOLOGY\n",
       "114                              PSYCHOLOGY\n",
       "121    CRIMINAL JUSTICE AND FIRE PROTECTION\n",
       "127                               ECONOMICS\n",
       "153                                 NURSING\n",
       "158                        GENERAL BUSINESS\n",
       "159                              ACCOUNTING\n",
       "161  BUSINESS MANAGEMENT AND ADMINISTRATION\n",
       "164        MARKETING AND MARKETING RESEARCH\n",
       "165                                 FINANCE"
      ]
     },
     "execution_count": 7,
     "metadata": {},
     "output_type": "execute_result"
    }
   ],
   "source": [
    "pd.DataFrame(major_data[(major_data['Total'] > 750000)]['Major'])"
   ]
  },
  {
   "cell_type": "markdown",
   "metadata": {},
   "source": [
    "Nursing had the highest total in the dataset.. by almost a million!"
   ]
  },
  {
   "cell_type": "code",
   "execution_count": 8,
   "metadata": {},
   "outputs": [
    {
     "data": {
      "text/html": [
       "<div>\n",
       "<style scoped>\n",
       "    .dataframe tbody tr th:only-of-type {\n",
       "        vertical-align: middle;\n",
       "    }\n",
       "\n",
       "    .dataframe tbody tr th {\n",
       "        vertical-align: top;\n",
       "    }\n",
       "\n",
       "    .dataframe thead th {\n",
       "        text-align: right;\n",
       "    }\n",
       "</style>\n",
       "<table border=\"1\" class=\"dataframe\">\n",
       "  <thead>\n",
       "    <tr style=\"text-align: right;\">\n",
       "      <th></th>\n",
       "      <th>Total</th>\n",
       "    </tr>\n",
       "  </thead>\n",
       "  <tbody>\n",
       "    <tr>\n",
       "      <td>153</td>\n",
       "      <td>1769892</td>\n",
       "    </tr>\n",
       "  </tbody>\n",
       "</table>\n",
       "</div>"
      ],
      "text/plain": [
       "       Total\n",
       "153  1769892"
      ]
     },
     "execution_count": 8,
     "metadata": {},
     "output_type": "execute_result"
    }
   ],
   "source": [
    "pd.DataFrame(major_data[major_data['Major'] == 'NURSING']['Total'])"
   ]
  },
  {
   "cell_type": "code",
   "execution_count": 9,
   "metadata": {},
   "outputs": [
    {
     "data": {
      "text/html": [
       "<div>\n",
       "<style scoped>\n",
       "    .dataframe tbody tr th:only-of-type {\n",
       "        vertical-align: middle;\n",
       "    }\n",
       "\n",
       "    .dataframe tbody tr th {\n",
       "        vertical-align: top;\n",
       "    }\n",
       "\n",
       "    .dataframe thead th {\n",
       "        text-align: right;\n",
       "    }\n",
       "</style>\n",
       "<table border=\"1\" class=\"dataframe\">\n",
       "  <thead>\n",
       "    <tr style=\"text-align: right;\">\n",
       "      <th></th>\n",
       "      <th>Major</th>\n",
       "    </tr>\n",
       "  </thead>\n",
       "  <tbody>\n",
       "    <tr>\n",
       "      <td>6</td>\n",
       "      <td>SOIL SCIENCE</td>\n",
       "    </tr>\n",
       "    <tr>\n",
       "      <td>26</td>\n",
       "      <td>EDUCATIONAL ADMINISTRATION AND SUPERVISION</td>\n",
       "    </tr>\n",
       "    <tr>\n",
       "      <td>27</td>\n",
       "      <td>SCHOOL STUDENT COUNSELING</td>\n",
       "    </tr>\n",
       "    <tr>\n",
       "      <td>51</td>\n",
       "      <td>GEOLOGICAL AND GEOPHYSICAL ENGINEERING</td>\n",
       "    </tr>\n",
       "    <tr>\n",
       "      <td>83</td>\n",
       "      <td>GENETICS</td>\n",
       "    </tr>\n",
       "    <tr>\n",
       "      <td>85</td>\n",
       "      <td>PHARMACOLOGY</td>\n",
       "    </tr>\n",
       "    <tr>\n",
       "      <td>93</td>\n",
       "      <td>MILITARY TECHNOLOGIES</td>\n",
       "    </tr>\n",
       "    <tr>\n",
       "      <td>97</td>\n",
       "      <td>MATHEMATICS AND COMPUTER SCIENCE</td>\n",
       "    </tr>\n",
       "    <tr>\n",
       "      <td>98</td>\n",
       "      <td>COGNITIVE SCIENCE AND BIOPSYCHOLOGY</td>\n",
       "    </tr>\n",
       "    <tr>\n",
       "      <td>104</td>\n",
       "      <td>ASTRONOMY AND ASTROPHYSICS</td>\n",
       "    </tr>\n",
       "    <tr>\n",
       "      <td>111</td>\n",
       "      <td>MATERIALS SCIENCE</td>\n",
       "    </tr>\n",
       "  </tbody>\n",
       "</table>\n",
       "</div>"
      ],
      "text/plain": [
       "                                          Major\n",
       "6                                  SOIL SCIENCE\n",
       "26   EDUCATIONAL ADMINISTRATION AND SUPERVISION\n",
       "27                    SCHOOL STUDENT COUNSELING\n",
       "51       GEOLOGICAL AND GEOPHYSICAL ENGINEERING\n",
       "83                                     GENETICS\n",
       "85                                 PHARMACOLOGY\n",
       "93                        MILITARY TECHNOLOGIES\n",
       "97             MATHEMATICS AND COMPUTER SCIENCE\n",
       "98          COGNITIVE SCIENCE AND BIOPSYCHOLOGY\n",
       "104                  ASTRONOMY AND ASTROPHYSICS\n",
       "111                           MATERIALS SCIENCE"
      ]
     },
     "execution_count": 9,
     "metadata": {},
     "output_type": "execute_result"
    }
   ],
   "source": [
    "pd.DataFrame(major_data[(major_data['Total'] < 7500)]['Major'])"
   ]
  },
  {
   "cell_type": "markdown",
   "metadata": {},
   "source": [
    "\n",
    "## Difference between P75th and Median Wages \n"
   ]
  },
  {
   "cell_type": "code",
   "execution_count": 10,
   "metadata": {},
   "outputs": [
    {
     "data": {
      "image/png": "[encoded data removed]",
      "text/plain": [
       "<Figure size 432x288 with 1 Axes>"
      ]
     },
     "metadata": {
      "needs_background": "light"
     },
     "output_type": "display_data"
    }
   ],
   "source": [
    "df1 = major_data['P75th']\n",
    "df2 = major_data['Median']\n",
    "major_data['P75 - Median'] = df1 - df2\n",
    "major_data[['Major', 'P75 - Median']].plot()\n",
    "major_data[['Major', 'P75 - Median']].iloc[pd.np.r_[59:60, 85:86, 97:98, 127:128, 160:161]]\n",
    "plt.title('P75th - Median', fontsize=16), plt.xlabel('Index Numbers'), plt.ylabel('Subtracted Value');"
   ]
  },
  {
   "cell_type": "markdown",
   "metadata": {},
   "source": [
    "1. Series.iloc is used for indexing by position using integers.\n",
    "2. Numpy r_ allowed my to stack the slices within the same DataFrame indeces, whereas I couldn't stack these five data points before."
   ]
  },
  {
   "cell_type": "markdown",
   "metadata": {},
   "source": [
    "I wanted to show how there isn't a common trend for high paying jobs and the difference of pay.. As you can see economics and pharmacology(which I would imagine to be higher) made the list for the biggest difference.\n",
    "#### Median Pay\n",
    "*** \n",
    "Petroleum Engineering = 125,000\n",
    "***\n",
    "Pharmacology = 60,000\n",
    "***\n",
    "Mathematics and Computer Science = 92,000\n",
    "***\n",
    "Economics = 69,000\n",
    "***\n",
    "Actuarial Science = 72,000"
   ]
  },
  {
   "cell_type": "markdown",
   "metadata": {},
   "source": [
    "## Highest & Lowest Unemployment Rates"
   ]
  },
  {
   "cell_type": "code",
   "execution_count": 11,
   "metadata": {},
   "outputs": [
    {
     "data": {
      "text/plain": [
       "0.077268968"
      ]
     },
     "execution_count": 11,
     "metadata": {},
     "output_type": "execute_result"
    }
   ],
   "source": [
    "major_data[major_data['Major_category'] == 'Interdisciplinary']['Unemployment_rate'].mean()"
   ]
  },
  {
   "cell_type": "markdown",
   "metadata": {},
   "source": [
    "#### Mean Unemployment Rates for Major Categories\n",
    "1. Engineering:                           0.0506\n",
    "2. Education:                             0.0468 \n",
    "3. Humanities & Liberal Arts:             0.0694\n",
    "4. Biology & Life Science:                0.0499\n",
    "5. Business:                              0.0545\n",
    "6. Health:                                0.0472 \n",
    "7. Computers & Mathematics:               0.0594 \n",
    "8. Physical Sciences:                     0.0545 \n",
    "9. Agriculture & Natural Resources:       0.0396 \n",
    "10. Social Science:                        0.0657 \n",
    "11. Psychology & Social Work:              0.0779 \n",
    "12. Arts:                                  0.0876 \n",
    "13. Industrial Arts & Consumer Services:   0.0585 \n",
    "14. Law & Public Policy:                   0.0679 \n",
    "15. Communications & Journalism:           0.0691 \n",
    "16. Interdisciplinary:                     0.0772     "
   ]
  },
  {
   "cell_type": "code",
   "execution_count": 12,
   "metadata": {},
   "outputs": [
    {
     "data": {
      "image/png": "[encoded data removed]",
      "text/plain": [
       "<Figure size 432x288 with 1 Axes>"
      ]
     },
     "metadata": {
      "needs_background": "light"
     },
     "output_type": "display_data"
    }
   ],
   "source": [
    "list_of_categories = ['Engineering', 'Education', 'Humanities & Liberal Arts', \n",
    "                'Biology & Life Science', 'Business', 'Health',\n",
    "                'Computers & Mathematics', 'Physical Sciences', \n",
    "                'Agriculture & Natural Resources', 'Social Science',\n",
    "                'Psychology & Social Work', 'Arts',                         \n",
    "                'Industrial Arts & Consumer Services', 'Law & Public Policy',\n",
    "                'Communications & Journalism',           \n",
    "                'Interdisciplinary']\n",
    "\n",
    "empty_list = []\n",
    "for i in list_of_categories:\n",
    "    val = major_data[major_data['Major_category'] == (i)]['Unemployment_rate'].mean()\n",
    "    empty_list.append(val)\n",
    "plt.scatter(empty_list, list_of_categories), plt.title('Unemployment Rates for Major Categories', \\\n",
    "                                                 fontsize=16), plt.xlabel('Unemployment Rate', fontsize=14);"
   ]
  },
  {
   "cell_type": "markdown",
   "metadata": {},
   "source": [
    "## Is this data good?"
   ]
  },
  {
   "cell_type": "code",
   "execution_count": null,
   "metadata": {},
   "outputs": [],
   "source": []
  },
  {
   "cell_type": "code",
   "execution_count": null,
   "metadata": {},
   "outputs": [],
   "source": []
  },
  {
   "cell_type": "code",
   "execution_count": null,
   "metadata": {},
   "outputs": [],
   "source": []
  },
  {
   "cell_type": "code",
   "execution_count": null,
   "metadata": {},
   "outputs": [],
   "source": []
  },
  {
   "cell_type": "code",
   "execution_count": null,
   "metadata": {},
   "outputs": [],
   "source": []
  },
  {
   "cell_type": "code",
   "execution_count": null,
   "metadata": {},
   "outputs": [],
   "source": []
  },
  {
   "cell_type": "code",
   "execution_count": null,
   "metadata": {},
   "outputs": [],
   "source": []
  },
  {
   "cell_type": "code",
   "execution_count": null,
   "metadata": {},
   "outputs": [],
   "source": []
  },
  {
   "cell_type": "code",
   "execution_count": null,
   "metadata": {},
   "outputs": [],
   "source": []
  },
  {
   "cell_type": "code",
   "execution_count": null,
   "metadata": {},
   "outputs": [],
   "source": []
  },
  {
   "cell_type": "code",
   "execution_count": null,
   "metadata": {},
   "outputs": [],
   "source": []
  },
  {
   "cell_type": "code",
   "execution_count": null,
   "metadata": {},
   "outputs": [],
   "source": []
  }
 ],
 "metadata": {
  "kernelspec": {
   "display_name": "Python 3",
   "language": "python",
   "name": "python3"
  },
  "language_info": {
   "codemirror_mode": {
    "name": "ipython",
    "version": 3
   },
   "file_extension": ".py",
   "mimetype": "text/x-python",
   "name": "python",
   "nbconvert_exporter": "python",
   "pygments_lexer": "ipython3",
   "version": "3.7.4"
  }
 },
 "nbformat": 4,
 "nbformat_minor": 2
}
